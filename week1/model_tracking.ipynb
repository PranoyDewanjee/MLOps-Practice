{
 "cells": [
  {
   "cell_type": "code",
   "execution_count": 1,
   "metadata": {},
   "outputs": [],
   "source": [
    "from mlflow.tracking import MlflowClient"
   ]
  },
  {
   "cell_type": "code",
   "execution_count": 2,
   "metadata": {},
   "outputs": [],
   "source": [
    "MLFLOW_TRACKING_URI = \"sqlite:///mlflow.db\""
   ]
  },
  {
   "cell_type": "code",
   "execution_count": 3,
   "metadata": {},
   "outputs": [
    {
     "data": {
      "text/plain": [
       "<mlflow.tracking.client.MlflowClient at 0x7f4eac50aa30>"
      ]
     },
     "execution_count": 3,
     "metadata": {},
     "output_type": "execute_result"
    }
   ],
   "source": [
    "# mlflow.set_tracking_uri(\"sqlite:///mlflow.db\")\n",
    "\n",
    "client = MlflowClient(tracking_uri=MLFLOW_TRACKING_URI)\n",
    "\n",
    "client"
   ]
  },
  {
   "cell_type": "code",
   "execution_count": 5,
   "metadata": {},
   "outputs": [
    {
     "data": {
      "text/plain": [
       "<Experiment: artifact_location='/home/Pranoy/MLOPS-Practice/week1/mlruns/1', creation_time=1702062308606, experiment_id='1', last_update_time=1702062308606, lifecycle_stage='active', name='practice-nyc-taxi-experiment', tags={}>"
      ]
     },
     "execution_count": 5,
     "metadata": {},
     "output_type": "execute_result"
    }
   ],
   "source": [
    "client.get_experiment_by_name(name=\"practice-nyc-taxi-experiment\")"
   ]
  },
  {
   "cell_type": "code",
   "execution_count": 7,
   "metadata": {},
   "outputs": [
    {
     "data": {
      "text/plain": [
       "'3'"
      ]
     },
     "execution_count": 7,
     "metadata": {},
     "output_type": "execute_result"
    }
   ],
   "source": [
    "client.create_experiment(name=\"testing\")"
   ]
  },
  {
   "cell_type": "code",
   "execution_count": 11,
   "metadata": {},
   "outputs": [],
   "source": [
    "from mlflow.entities import ViewType\n",
    "\n",
    "runs = client.search_runs(\n",
    "    experiment_ids='1',\n",
    "    filter_string=\"metrics.rmse > 5\",\n",
    "    run_view_type=ViewType.ACTIVE_ONLY,\n",
    "    max_results=5,\n",
    "    order_by=[\"metrics.rmse ASC\"]\n",
    ")"
   ]
  },
  {
   "cell_type": "code",
   "execution_count": 9,
   "metadata": {},
   "outputs": [
    {
     "name": "stdout",
     "output_type": "stream",
     "text": [
      "<Run: data=<RunData: metrics={'rmse': 6.117380806008348}, params={'learning_rate': '0.17333488591160945',\n",
      " 'max_depth': '37',\n",
      " 'min_child_weight': '1.4730278654922664',\n",
      " 'objective': 'reg:linear',\n",
      " 'reg_alpha': '0.19720457069048922',\n",
      " 'reg_lambda': '0.05891441018540568',\n",
      " 'seed': '42'}, tags={'mlflow.runName': 'Pranoy_XGBoost_3',\n",
      " 'mlflow.source.name': '/home/Pranoy/.local/share/virtualenvs/week1-y_khLokL/lib/python3.9/site-packages/ipykernel_launcher.py',\n",
      " 'mlflow.source.type': 'LOCAL',\n",
      " 'mlflow.user': 'Pranoy',\n",
      " 'model': 'xgboost'}>, info=<RunInfo: artifact_uri='/home/Pranoy/MLOPS-Practice/week1/mlruns/1/93f0b190469b4504aa81b4aae2b3d5e3/artifacts', end_time=1702063798529, experiment_id='1', lifecycle_stage='active', run_id='93f0b190469b4504aa81b4aae2b3d5e3', run_name='Pranoy_XGBoost_3', run_uuid='93f0b190469b4504aa81b4aae2b3d5e3', start_time=1702063780923, status='FINISHED', user_id='Pranoy'>, inputs=<RunInputs: dataset_inputs=[]>>\n",
      "--------------------------------\n",
      "<Run: data=<RunData: metrics={'rmse': 6.140937505335176}, params={'learning_rate': '0.16712375974677018',\n",
      " 'max_depth': '60',\n",
      " 'min_child_weight': '2.490528804653588',\n",
      " 'objective': 'reg:linear',\n",
      " 'reg_alpha': '0.09873781167588383',\n",
      " 'reg_lambda': '0.008530279041510276',\n",
      " 'seed': '42'}, tags={'mlflow.runName': 'Pranoy_XGBoost_1',\n",
      " 'mlflow.source.name': '/home/Pranoy/.local/share/virtualenvs/week1-y_khLokL/lib/python3.9/site-packages/ipykernel_launcher.py',\n",
      " 'mlflow.source.type': 'LOCAL',\n",
      " 'mlflow.user': 'Pranoy',\n",
      " 'model': 'xgboost'}>, info=<RunInfo: artifact_uri='/home/Pranoy/MLOPS-Practice/week1/mlruns/1/e5a9d885305740bcbfbb3842c2210e01/artifacts', end_time=1702063772064, experiment_id='1', lifecycle_stage='active', run_id='e5a9d885305740bcbfbb3842c2210e01', run_name='Pranoy_XGBoost_1', run_uuid='e5a9d885305740bcbfbb3842c2210e01', start_time=1702063740856, status='FINISHED', user_id='Pranoy'>, inputs=<RunInputs: dataset_inputs=[]>>\n",
      "--------------------------------\n",
      "<Run: data=<RunData: metrics={'rmse': 7.317637909268655}, params={'learning_rate': '0.09585355369315604',\n",
      " 'max_depth': '30',\n",
      " 'min_child_weight': '1.060597050922164',\n",
      " 'objective': 'reg:linear',\n",
      " 'reg_alpha': '0.018060244040060163',\n",
      " 'reg_lambda': '0.011658731377413597',\n",
      " 'seed': '42'}, tags={'mlflow.log-model.history': '[{\"run_id\": \"6104f2cbe25d444ca674fd04e1e14103\", '\n",
      "                             '\"artifact_path\": \"models_mlflow\", '\n",
      "                             '\"utc_time_created\": \"2023-12-08 '\n",
      "                             '19:39:50.567690\", \"flavors\": {\"python_function\": '\n",
      "                             '{\"loader_module\": \"mlflow.xgboost\", '\n",
      "                             '\"python_version\": \"3.9.12\", \"data\": \"model.xgb\", '\n",
      "                             '\"env\": {\"conda\": \"conda.yaml\", \"virtualenv\": '\n",
      "                             '\"python_env.yaml\"}}, \"xgboost\": {\"xgb_version\": '\n",
      "                             '\"2.0.1\", \"data\": \"model.xgb\", \"model_class\": '\n",
      "                             '\"xgboost.core.Booster\", \"model_format\": \"xgb\", '\n",
      "                             '\"code\": null}}, \"model_uuid\": '\n",
      "                             '\"093cdce63bca45c1973532c2bbb7540a\", '\n",
      "                             '\"mlflow_version\": \"2.5.0\"}]',\n",
      " 'mlflow.runName': 'Pranoy_XGBoost_4',\n",
      " 'mlflow.source.name': '/home/Pranoy/.local/share/virtualenvs/week1-y_khLokL/lib/python3.9/site-packages/ipykernel_launcher.py',\n",
      " 'mlflow.source.type': 'LOCAL',\n",
      " 'mlflow.user': 'Pranoy'}>, info=<RunInfo: artifact_uri='/home/Pranoy/MLOPS-Practice/week1/mlruns/1/6104f2cbe25d444ca674fd04e1e14103/artifacts', end_time=1702064394392, experiment_id='1', lifecycle_stage='active', run_id='6104f2cbe25d444ca674fd04e1e14103', run_name='Pranoy_XGBoost_4', run_uuid='6104f2cbe25d444ca674fd04e1e14103', start_time=1702064372084, status='FINISHED', user_id='Pranoy'>, inputs=<RunInputs: dataset_inputs=[]>>\n",
      "--------------------------------\n",
      "<Run: data=<RunData: metrics={'rmse': 8.3882804376725}, params={'learning_rate': '0.05339806633323665',\n",
      " 'max_depth': '19',\n",
      " 'min_child_weight': '0.46579346178155956',\n",
      " 'objective': 'reg:linear',\n",
      " 'reg_alpha': '0.01070483044800489',\n",
      " 'reg_lambda': '0.0402393408325539',\n",
      " 'seed': '42'}, tags={'mlflow.runName': 'Pranoy_XGBoost_2',\n",
      " 'mlflow.source.name': '/home/Pranoy/.local/share/virtualenvs/week1-y_khLokL/lib/python3.9/site-packages/ipykernel_launcher.py',\n",
      " 'mlflow.source.type': 'LOCAL',\n",
      " 'mlflow.user': 'Pranoy',\n",
      " 'model': 'xgboost'}>, info=<RunInfo: artifact_uri='/home/Pranoy/MLOPS-Practice/week1/mlruns/1/76f2f3ec59a446c58dcd4321447fb0cd/artifacts', end_time=1702063780911, experiment_id='1', lifecycle_stage='active', run_id='76f2f3ec59a446c58dcd4321447fb0cd', run_name='Pranoy_XGBoost_2', run_uuid='76f2f3ec59a446c58dcd4321447fb0cd', start_time=1702063772078, status='FINISHED', user_id='Pranoy'>, inputs=<RunInputs: dataset_inputs=[]>>\n",
      "--------------------------------\n",
      "<Run: data=<RunData: metrics={'rmse': 10.068859572255999}, params={'alpha': '0.1',\n",
      " 'train-data-path': '/home/Pranoy/MLOPS-Practice/data/yellow_tripdata_2023-01.parquet',\n",
      " 'valid-data-path': '/home/Pranoy/MLOPS-Practice/data/yellow_tripdata_2023-02.parquet'}, tags={'developer': 'Pranoy',\n",
      " 'mlflow.note.content': 'My Second Lasso Regression Logged',\n",
      " 'mlflow.runName': 'Pranoy_test_Lasso2',\n",
      " 'mlflow.source.name': '/home/Pranoy/.local/share/virtualenvs/week1-y_khLokL/lib/python3.9/site-packages/ipykernel_launcher.py',\n",
      " 'mlflow.source.type': 'LOCAL',\n",
      " 'mlflow.user': 'Pranoy'}>, info=<RunInfo: artifact_uri='/home/Pranoy/MLOPS-Practice/week1/mlruns/1/3cd9bb74bc484d799fd989d5715bf3d3/artifacts', end_time=1702062562429, experiment_id='1', lifecycle_stage='active', run_id='3cd9bb74bc484d799fd989d5715bf3d3', run_name='Pranoy_test_Lasso2', run_uuid='3cd9bb74bc484d799fd989d5715bf3d3', start_time=1702062537918, status='FINISHED', user_id='Pranoy'>, inputs=<RunInputs: dataset_inputs=[<DatasetInput: dataset=<Dataset: digest='8f1ef2d9', name='dataset', profile='{\"num_rows\": 601835, \"num_elements\": 13240370}', schema=None, source=('{\"tags\": {\"mlflow.user\": \"Pranoy\", \"mlflow.source.name\": '\n",
      " '\"/home/Pranoy/.local/share/virtualenvs/week1-y_khLokL/lib/python3.9/site-packages/ipykernel_launcher.py\", '\n",
      " '\"mlflow.source.type\": \"LOCAL\"}}'), source_type='code'>, tags=[<InputTag: key='description', value='yellow taxi 2023-01'>,\n",
      " <InputTag: key='mlflow.data.context', value='Training'>]>,\n",
      " <DatasetInput: dataset=<Dataset: digest='40c1347d', name='dataset', profile='{\"num_rows\": 571190, \"num_elements\": 12566180}', schema=None, source=('{\"tags\": {\"mlflow.user\": \"Pranoy\", \"mlflow.source.name\": '\n",
      " '\"/home/Pranoy/.local/share/virtualenvs/week1-y_khLokL/lib/python3.9/site-packages/ipykernel_launcher.py\", '\n",
      " '\"mlflow.source.type\": \"LOCAL\"}}'), source_type='code'>, tags=[<InputTag: key='description', value='yellow taxi 2023-02'>,\n",
      " <InputTag: key='mlflow.data.context', value='Validation'>]>]>>\n",
      "--------------------------------\n"
     ]
    }
   ],
   "source": [
    "for run in runs:\n",
    "    print(run)\n",
    "    print(\"--------------------------------\")"
   ]
  },
  {
   "cell_type": "code",
   "execution_count": 14,
   "metadata": {},
   "outputs": [
    {
     "name": "stdout",
     "output_type": "stream",
     "text": [
      "run id: 93f0b190469b4504aa81b4aae2b3d5e3, run name: Pranoy_XGBoost_3, rmse: 6.117380806008348\n",
      "run id: e5a9d885305740bcbfbb3842c2210e01, run name: Pranoy_XGBoost_1, rmse: 6.140937505335176\n",
      "run id: 6104f2cbe25d444ca674fd04e1e14103, run name: Pranoy_XGBoost_4, rmse: 7.317637909268655\n",
      "run id: 76f2f3ec59a446c58dcd4321447fb0cd, run name: Pranoy_XGBoost_2, rmse: 8.3882804376725\n",
      "run id: 3cd9bb74bc484d799fd989d5715bf3d3, run name: Pranoy_test_Lasso2, rmse: 10.068859572255999\n"
     ]
    }
   ],
   "source": [
    "for run in runs:\n",
    "    print(f\"run id: {run.info.run_id}, run name: {run.info.run_name}, rmse: {run.data.metrics['rmse']}\")"
   ]
  },
  {
   "cell_type": "code",
   "execution_count": 4,
   "metadata": {},
   "outputs": [],
   "source": [
    "import mlflow\n",
    "\n",
    "mlflow.set_tracking_uri(MLFLOW_TRACKING_URI)"
   ]
  },
  {
   "cell_type": "code",
   "execution_count": 5,
   "metadata": {},
   "outputs": [
    {
     "name": "stderr",
     "output_type": "stream",
     "text": [
      "Successfully registered model 'practice_taxi_model_register'.\n",
      "2023/12/09 19:13:26 INFO mlflow.tracking._model_registry.client: Waiting up to 300 seconds for model version to finish creation. Model name: practice_taxi_model_register, version 1\n",
      "Created version '1' of model 'practice_taxi_model_register'.\n"
     ]
    },
    {
     "data": {
      "text/plain": [
       "<ModelVersion: aliases=[], creation_timestamp=1702149206318, current_stage='None', description=None, last_updated_timestamp=1702149206318, name='practice_taxi_model_register', run_id='e5a9d885305740bcbfbb3842c2210e01', run_link=None, source='/home/Pranoy/MLOPS-Practice/week1/mlruns/1/e5a9d885305740bcbfbb3842c2210e01/artifacts/model', status='READY', status_message=None, tags={}, user_id=None, version=1>"
      ]
     },
     "execution_count": 5,
     "metadata": {},
     "output_type": "execute_result"
    }
   ],
   "source": [
    "# register a run into models\n",
    "\n",
    "run_id = \"e5a9d885305740bcbfbb3842c2210e01\"\n",
    "model_uri = f\"runs:/{run_id}/model\"\n",
    "mlflow.register_model(model_uri=model_uri, name=\"practice_taxi_model_register\")"
   ]
  },
  {
   "cell_type": "code",
   "execution_count": 6,
   "metadata": {},
   "outputs": [
    {
     "name": "stdout",
     "output_type": "stream",
     "text": [
      "version: 1, stage: None\n"
     ]
    }
   ],
   "source": [
    "# Get the latest version of the run from the models\n",
    "\n",
    "model_name = \"practice_taxi_model_register\"\n",
    "latest_versions = client.get_latest_versions(name=model_name)\n",
    "\n",
    "for version in latest_versions:\n",
    "    print(f\"version: {version.version}, stage: {version.current_stage}\")"
   ]
  },
  {
   "cell_type": "code",
   "execution_count": 7,
   "metadata": {},
   "outputs": [
    {
     "data": {
      "text/plain": [
       "<ModelVersion: aliases=[], creation_timestamp=1702149206318, current_stage='Staging', description=None, last_updated_timestamp=1702149399020, name='practice_taxi_model_register', run_id='e5a9d885305740bcbfbb3842c2210e01', run_link=None, source='/home/Pranoy/MLOPS-Practice/week1/mlruns/1/e5a9d885305740bcbfbb3842c2210e01/artifacts/model', status='READY', status_message=None, tags={}, user_id=None, version=1>"
      ]
     },
     "execution_count": 7,
     "metadata": {},
     "output_type": "execute_result"
    }
   ],
   "source": [
    "# Change the stage of the registered run in the models\n",
    "\n",
    "model_version = 1\n",
    "new_stage = \"Staging\"\n",
    "client.transition_model_version_stage(\n",
    "    name=model_name,\n",
    "    version=model_version,\n",
    "    stage=new_stage,\n",
    "    archive_existing_versions=True\n",
    ")"
   ]
  },
  {
   "cell_type": "code",
   "execution_count": 9,
   "metadata": {},
   "outputs": [
    {
     "name": "stderr",
     "output_type": "stream",
     "text": [
      "Registered model 'practice_taxi_model_register' already exists. Creating a new version of this model...\n",
      "2023/12/09 19:19:00 INFO mlflow.tracking._model_registry.client: Waiting up to 300 seconds for model version to finish creation. Model name: practice_taxi_model_register, version 3\n",
      "Created version '3' of model 'practice_taxi_model_register'.\n"
     ]
    },
    {
     "data": {
      "text/plain": [
       "<ModelVersion: aliases=[], creation_timestamp=1702149523705, current_stage='Production', description=None, last_updated_timestamp=1702149540663, name='practice_taxi_model_register', run_id='93f0b190469b4504aa81b4aae2b3d5e3', run_link=None, source='/home/Pranoy/MLOPS-Practice/week1/mlruns/1/93f0b190469b4504aa81b4aae2b3d5e3/artifacts/model', status='READY', status_message=None, tags={}, user_id=None, version=2>"
      ]
     },
     "execution_count": 9,
     "metadata": {},
     "output_type": "execute_result"
    }
   ],
   "source": [
    "run_id = \"93f0b190469b4504aa81b4aae2b3d5e3\"\n",
    "model_uri = f\"runs:/{run_id}/model\"\n",
    "mlflow.register_model(model_uri=model_uri, name=\"practice_taxi_model_register\")\n"
   ]
  },
  {
   "cell_type": "code",
   "execution_count": 10,
   "metadata": {},
   "outputs": [
    {
     "data": {
      "text/plain": [
       "<ModelVersion: aliases=[], creation_timestamp=1702149540651, current_stage='Production', description=None, last_updated_timestamp=1702149599188, name='practice_taxi_model_register', run_id='93f0b190469b4504aa81b4aae2b3d5e3', run_link=None, source='/home/Pranoy/MLOPS-Practice/week1/mlruns/1/93f0b190469b4504aa81b4aae2b3d5e3/artifacts/model', status='READY', status_message=None, tags={}, user_id=None, version=3>"
      ]
     },
     "execution_count": 10,
     "metadata": {},
     "output_type": "execute_result"
    }
   ],
   "source": [
    "client.transition_model_version_stage(\n",
    "    name=model_name,\n",
    "     version=3,\n",
    "      stage=\"Production\",\n",
    "       archive_existing_versions=True )"
   ]
  },
  {
   "cell_type": "code",
   "execution_count": 11,
   "metadata": {},
   "outputs": [
    {
     "data": {
      "text/plain": [
       "<ModelVersion: aliases=[], creation_timestamp=1702149206318, current_stage='Production', description=None, last_updated_timestamp=1702149653338, name='practice_taxi_model_register', run_id='e5a9d885305740bcbfbb3842c2210e01', run_link=None, source='/home/Pranoy/MLOPS-Practice/week1/mlruns/1/e5a9d885305740bcbfbb3842c2210e01/artifacts/model', status='READY', status_message=None, tags={}, user_id=None, version=1>"
      ]
     },
     "execution_count": 11,
     "metadata": {},
     "output_type": "execute_result"
    }
   ],
   "source": [
    "client.transition_model_version_stage(\n",
    "    name=model_name,\n",
    "     version=1,\n",
    "      stage=\"Production\",\n",
    "       archive_existing_versions=True )"
   ]
  },
  {
   "cell_type": "code",
   "execution_count": 12,
   "metadata": {},
   "outputs": [
    {
     "data": {
      "text/plain": [
       "<ModelVersion: aliases=[], creation_timestamp=1702149206318, current_stage='Production', description='The model version 1 was transitioned to Production on 2023-12-09', last_updated_timestamp=1702149757526, name='practice_taxi_model_register', run_id='e5a9d885305740bcbfbb3842c2210e01', run_link=None, source='/home/Pranoy/MLOPS-Practice/week1/mlruns/1/e5a9d885305740bcbfbb3842c2210e01/artifacts/model', status='READY', status_message=None, tags={}, user_id=None, version=1>"
      ]
     },
     "execution_count": 12,
     "metadata": {},
     "output_type": "execute_result"
    }
   ],
   "source": [
    "# Update the register run in the models\n",
    "\n",
    "from datetime import datetime\n",
    "\n",
    "date = datetime.today().date()\n",
    "client.update_model_version(\n",
    "    name=model_name,\n",
    "    version=1,\n",
    "    description=f\"The model version {model_version} was transitioned to {'Production'} on {date}\"\n",
    ")"
   ]
  },
  {
   "cell_type": "code",
   "execution_count": 13,
   "metadata": {},
   "outputs": [],
   "source": [
    "# Look at the model-registry.ipynb to understand comparison of versions and update \"Production\" tag in the models"
   ]
  },
  {
   "cell_type": "code",
   "execution_count": null,
   "metadata": {},
   "outputs": [],
   "source": []
  }
 ],
 "metadata": {
  "kernelspec": {
   "display_name": "week1-y_khLokL",
   "language": "python",
   "name": "python3"
  },
  "language_info": {
   "codemirror_mode": {
    "name": "ipython",
    "version": 3
   },
   "file_extension": ".py",
   "mimetype": "text/x-python",
   "name": "python",
   "nbconvert_exporter": "python",
   "pygments_lexer": "ipython3",
   "version": "3.9.12"
  }
 },
 "nbformat": 4,
 "nbformat_minor": 2
}
