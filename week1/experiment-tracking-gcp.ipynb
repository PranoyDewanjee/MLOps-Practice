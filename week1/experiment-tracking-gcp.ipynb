{
 "cells": [
  {
   "cell_type": "markdown",
   "metadata": {},
   "source": [
    "# Packages"
   ]
  },
  {
   "cell_type": "code",
   "execution_count": 1,
   "metadata": {},
   "outputs": [],
   "source": [
    "import pandas as pd\n",
    "import numpy as np\n",
    "from datetime import datetime\n",
    "\n",
    "from sklearn.feature_extraction import DictVectorizer\n",
    "\n",
    "from sklearn.linear_model import Lasso\n",
    "from sklearn.metrics import mean_squared_error, r2_score\n",
    "\n",
    "\n",
    "import mlflow\n",
    "from mlflow.entities import ViewType\n",
    "from mlflow.tracking import MlflowClient\n",
    "from sklearn.linear_model import LinearRegression\n",
    "\n",
    "from google.cloud import storage\n"
   ]
  },
  {
   "cell_type": "markdown",
   "metadata": {},
   "source": [
    "# Global Variable Declaration"
   ]
  },
  {
   "cell_type": "code",
   "execution_count": 2,
   "metadata": {},
   "outputs": [],
   "source": [
    "TRACKING_SERVER_HOST = \"0.0.0.0\"\n",
    "TRACKING_SERVER_PORT = \"5000\"\n",
    "TRAIN_DATA_PATH = \"/home/Pranoy/MLOPS-Practice/data/yellow_tripdata_2023-01.parquet\"\n",
    "VALID_DATA_PATH = \"/home/Pranoy/MLOPS-Practice/data/yellow_tripdata_2023-02.parquet\"\n",
    "EXPERIMENT_NAME = \"practice_nyc_experiment\"\n",
    "\n",
    "TRACKING_URI = f'{TRACKING_SERVER_HOST}:{TRACKING_SERVER_PORT}'"
   ]
  },
  {
   "cell_type": "markdown",
   "metadata": {},
   "source": [
    "MLFlow initialization\n",
    "- mlflow server -h 0.0.0.0 -p 5000 --backend-store-uri postgresql://[username]:[password]@[private_IP_address]:5432/[database_name] --default-artifact-root gs://[bucket_name]"
   ]
  },
  {
   "cell_type": "code",
   "execution_count": 3,
   "metadata": {},
   "outputs": [
    {
     "data": {
      "text/plain": [
       "<Experiment: artifact_location='gs://mlflow_bucket_1408/1', creation_time=1702158711950, experiment_id='1', last_update_time=1702158711950, lifecycle_stage='active', name='practice_nyc_experiment', tags={}>"
      ]
     },
     "execution_count": 3,
     "metadata": {},
     "output_type": "execute_result"
    }
   ],
   "source": [
    "mlflow.set_tracking_uri(f\"http://{TRACKING_SERVER_HOST}:{TRACKING_SERVER_PORT}\")\n",
    "mlflow.set_experiment(EXPERIMENT_NAME)"
   ]
  },
  {
   "cell_type": "markdown",
   "metadata": {},
   "source": [
    "# Data Processing"
   ]
  },
  {
   "cell_type": "markdown",
   "metadata": {},
   "source": [
    "### Functions"
   ]
  },
  {
   "cell_type": "code",
   "execution_count": 4,
   "metadata": {},
   "outputs": [],
   "source": [
    "def read_dataframe(filename):\n",
    "    if filename.endswith('.csv'):\n",
    "        df = pd.read_csv(filename)\n",
    "\n",
    "        \n",
    "        df.lpep_dropoff_datetime = pd.to_datetime(df.tpep_dropoff_datetime)\n",
    "        df.lpep_pickup_datetime = pd.to_datetime(df.tpep_pickup_datetime)\n",
    "    elif filename.endswith('.parquet'):\n",
    "        df = pd.read_parquet(filename, engine = 'pyarrow')\n",
    "\n",
    "    df['duration'] = df.tpep_dropoff_datetime - df.tpep_pickup_datetime\n",
    "    df.duration = df.duration.apply(lambda td: td.total_seconds() / 60)\n",
    "\n",
    "    df = df[(df.duration >= 1) & (df.duration <= 60)]\n",
    "\n",
    "    categorical = ['PULocationID', 'DOLocationID']\n",
    "    df[categorical] = df[categorical].astype(str)\n",
    "    \n",
    "    df = df.sample(frac=0.1)\n",
    "    df.reset_index(inplace=True)\n",
    "    \n",
    "    df['PU_DO'] = df['PULocationID'] + '_' + df['DOLocationID']\n",
    "    \n",
    "    return df"
   ]
  },
  {
   "cell_type": "code",
   "execution_count": 5,
   "metadata": {},
   "outputs": [],
   "source": [
    "dv = DictVectorizer()\n",
    "def vectorizer(df: pd.DataFrame, fit = False):\n",
    "    features = ['PU_DO', 'trip_distance']\n",
    "    dict_df = df[features].to_dict(orient='records')\n",
    "    # If fit is True, fit the DictVectorizer to the data\n",
    "    if fit:\n",
    "        tdf = dv.fit_transform(dict_df)\n",
    "    else:\n",
    "        # If fit is False, transform using the already fitted DictVectorizer\n",
    "        tdf = dv.transform(dict_df)\n",
    "\n",
    "    return tdf"
   ]
  },
  {
   "cell_type": "markdown",
   "metadata": {},
   "source": [
    "### Load Data"
   ]
  },
  {
   "cell_type": "code",
   "execution_count": 6,
   "metadata": {},
   "outputs": [],
   "source": [
    "df_train = read_dataframe(TRAIN_DATA_PATH)\n",
    "df_val = read_dataframe(VALID_DATA_PATH)"
   ]
  },
  {
   "cell_type": "code",
   "execution_count": 7,
   "metadata": {},
   "outputs": [
    {
     "data": {
      "text/plain": [
       "(300917, 22)"
      ]
     },
     "execution_count": 7,
     "metadata": {},
     "output_type": "execute_result"
    }
   ],
   "source": [
    "df_train.shape"
   ]
  },
  {
   "cell_type": "code",
   "execution_count": 8,
   "metadata": {},
   "outputs": [
    {
     "data": {
      "text/plain": [
       "(285595, 22)"
      ]
     },
     "execution_count": 8,
     "metadata": {},
     "output_type": "execute_result"
    }
   ],
   "source": [
    "df_val.shape"
   ]
  },
  {
   "cell_type": "code",
   "execution_count": 9,
   "metadata": {},
   "outputs": [],
   "source": [
    "x_train = vectorizer(df_train,fit=True)\n",
    "x_val = vectorizer(df_val)"
   ]
  },
  {
   "cell_type": "code",
   "execution_count": 11,
   "metadata": {},
   "outputs": [
    {
     "name": "stdout",
     "output_type": "stream",
     "text": [
      "Shape of x_train is (300917, 9984)\n",
      "Shape of x_val is (285595, 9984)\n"
     ]
    }
   ],
   "source": [
    "print(f\"Shape of x_train is {x_train.shape}\")\n",
    "print(f\"Shape of x_val is {x_val.shape}\")"
   ]
  },
  {
   "cell_type": "code",
   "execution_count": 12,
   "metadata": {},
   "outputs": [],
   "source": [
    "target = 'duration'\n",
    "y_train = df_train[target].values\n",
    "y_val = df_val[target].values"
   ]
  },
  {
   "cell_type": "markdown",
   "metadata": {},
   "source": [
    "### Model Train"
   ]
  },
  {
   "cell_type": "code",
   "execution_count": 13,
   "metadata": {},
   "outputs": [],
   "source": [
    "\n",
    "with mlflow.start_run(run_name = f\"Lasso_Exp_{0}\", description=f\"Lasso Regression of experiment number {0}\"):\n",
    "    mlflow.log_params({\n",
    "        'alpha' : 0.01,\n",
    "        'model'  : 'Lasso',\n",
    "        'train_data' : TRAIN_DATA_PATH,\n",
    "        'validation_data'  : VALID_DATA_PATH\n",
    "        })\n",
    "    mlflow.set_tags({'FirstName':'Pranoy'\n",
    "                 ,'LastName':'Dewanjee'})\n",
    "    ls = Lasso(0.01)\n",
    "    ls.fit(x_train,y_train)\n",
    "    y_pred = ls.predict(x_val)\n",
    "    rmse = mean_squared_error(y_val,y_pred, squared = False)\n",
    "    r2score = r2_score(y_val, y_pred)\n",
    "    mlflow.log_metric(\"rmse\", rmse)\n",
    "    mlflow.log_metric(\"r2_score\", r2score)\n",
    "    mlflow.sklearn.log_model(ls,artifact_path=\"model\")"
   ]
  },
  {
   "cell_type": "code",
   "execution_count": 14,
   "metadata": {},
   "outputs": [],
   "source": [
    "count = 0\n",
    "def model_train(x_train,y_train,x_val,y_val,alpha):\n",
    "    global count\n",
    "    count+=1\n",
    "    mlflow.start_run(run_name = f\"Lasso_Exp_{count}\", description=f\"Lasso Regression of experiment number {count}\")\n",
    "    mlflow.log_params({\n",
    "        'alpha' : alpha,\n",
    "        'model'  : 'Lasso',\n",
    "        'train_data' : TRAIN_DATA_PATH,\n",
    "        'validation_data'  : VALID_DATA_PATH\n",
    "        })\n",
    "    mlflow.set_tags({'FirstName':'Pranoy'\n",
    "                 ,'LastName':'Dewanjee'})\n",
    "    \n",
    "    ls = Lasso(alpha)\n",
    "    ls.fit(x_train,y_train)\n",
    "    y_pred = ls.predict(x_val)\n",
    "    rmse = mean_squared_error(y_val,y_pred, squared = False)\n",
    "    r2score = r2_score(y_val, y_pred)\n",
    "    mlflow.log_metric(\"rmse\", rmse)\n",
    "    mlflow.log_metric(\"r2_score\", r2score)\n",
    "    mlflow.sklearn.log_model(ls,artifact_path=\"model\")\n",
    "\n",
    "    mlflow.end_run()"
   ]
  },
  {
   "cell_type": "code",
   "execution_count": 15,
   "metadata": {},
   "outputs": [
    {
     "name": "stdout",
     "output_type": "stream",
     "text": [
      "[0.5985607175928325, 0.029874608995759888, 0.1802763495770121, 0.3691135911554605, 0.12544579854842985]\n"
     ]
    }
   ],
   "source": [
    "import random\n",
    "\n",
    "random_numbers = [random.random() for _ in range(5)]\n",
    "\n",
    "print(random_numbers)"
   ]
  },
  {
   "cell_type": "code",
   "execution_count": 16,
   "metadata": {},
   "outputs": [
    {
     "name": "stderr",
     "output_type": "stream",
     "text": [
      "/home/Pranoy/.local/share/virtualenvs/week1-y_khLokL/lib/python3.9/site-packages/_distutils_hack/__init__.py:18: UserWarning: Distutils was imported before Setuptools, but importing Setuptools also replaces the `distutils` module in `sys.modules`. This may lead to undesirable behaviors or errors. To avoid these issues, avoid using distutils directly, ensure that setuptools is installed in the traditional way (e.g. not an editable install), and/or make sure that setuptools is always imported before distutils.\n",
      "  warnings.warn(\n",
      "/home/Pranoy/.local/share/virtualenvs/week1-y_khLokL/lib/python3.9/site-packages/_distutils_hack/__init__.py:33: UserWarning: Setuptools is replacing distutils.\n",
      "  warnings.warn(\"Setuptools is replacing distutils.\")\n",
      "/home/Pranoy/.local/share/virtualenvs/week1-y_khLokL/lib/python3.9/site-packages/_distutils_hack/__init__.py:18: UserWarning: Distutils was imported before Setuptools, but importing Setuptools also replaces the `distutils` module in `sys.modules`. This may lead to undesirable behaviors or errors. To avoid these issues, avoid using distutils directly, ensure that setuptools is installed in the traditional way (e.g. not an editable install), and/or make sure that setuptools is always imported before distutils.\n",
      "  warnings.warn(\n",
      "/home/Pranoy/.local/share/virtualenvs/week1-y_khLokL/lib/python3.9/site-packages/_distutils_hack/__init__.py:33: UserWarning: Setuptools is replacing distutils.\n",
      "  warnings.warn(\"Setuptools is replacing distutils.\")\n",
      "/home/Pranoy/.local/share/virtualenvs/week1-y_khLokL/lib/python3.9/site-packages/_distutils_hack/__init__.py:18: UserWarning: Distutils was imported before Setuptools, but importing Setuptools also replaces the `distutils` module in `sys.modules`. This may lead to undesirable behaviors or errors. To avoid these issues, avoid using distutils directly, ensure that setuptools is installed in the traditional way (e.g. not an editable install), and/or make sure that setuptools is always imported before distutils.\n",
      "  warnings.warn(\n",
      "/home/Pranoy/.local/share/virtualenvs/week1-y_khLokL/lib/python3.9/site-packages/_distutils_hack/__init__.py:33: UserWarning: Setuptools is replacing distutils.\n",
      "  warnings.warn(\"Setuptools is replacing distutils.\")\n",
      "/home/Pranoy/.local/share/virtualenvs/week1-y_khLokL/lib/python3.9/site-packages/_distutils_hack/__init__.py:18: UserWarning: Distutils was imported before Setuptools, but importing Setuptools also replaces the `distutils` module in `sys.modules`. This may lead to undesirable behaviors or errors. To avoid these issues, avoid using distutils directly, ensure that setuptools is installed in the traditional way (e.g. not an editable install), and/or make sure that setuptools is always imported before distutils.\n",
      "  warnings.warn(\n",
      "/home/Pranoy/.local/share/virtualenvs/week1-y_khLokL/lib/python3.9/site-packages/_distutils_hack/__init__.py:33: UserWarning: Setuptools is replacing distutils.\n",
      "  warnings.warn(\"Setuptools is replacing distutils.\")\n",
      "/home/Pranoy/.local/share/virtualenvs/week1-y_khLokL/lib/python3.9/site-packages/_distutils_hack/__init__.py:18: UserWarning: Distutils was imported before Setuptools, but importing Setuptools also replaces the `distutils` module in `sys.modules`. This may lead to undesirable behaviors or errors. To avoid these issues, avoid using distutils directly, ensure that setuptools is installed in the traditional way (e.g. not an editable install), and/or make sure that setuptools is always imported before distutils.\n",
      "  warnings.warn(\n",
      "/home/Pranoy/.local/share/virtualenvs/week1-y_khLokL/lib/python3.9/site-packages/_distutils_hack/__init__.py:33: UserWarning: Setuptools is replacing distutils.\n",
      "  warnings.warn(\"Setuptools is replacing distutils.\")\n"
     ]
    }
   ],
   "source": [
    "for alpha in random_numbers:\n",
    "    model_train(x_train,y_train,x_val,y_val,alpha)"
   ]
  },
  {
   "cell_type": "code",
   "execution_count": null,
   "metadata": {},
   "outputs": [],
   "source": []
  }
 ],
 "metadata": {
  "kernelspec": {
   "display_name": "week1-y_khLokL",
   "language": "python",
   "name": "python3"
  },
  "language_info": {
   "codemirror_mode": {
    "name": "ipython",
    "version": 3
   },
   "file_extension": ".py",
   "mimetype": "text/x-python",
   "name": "python",
   "nbconvert_exporter": "python",
   "pygments_lexer": "ipython3",
   "version": "3.9.12"
  }
 },
 "nbformat": 4,
 "nbformat_minor": 2
}
